{
 "cells": [
  {
   "cell_type": "code",
   "execution_count": null,
   "metadata": {},
   "outputs": [],
   "source": [
    "from src.main.python.undersampling import cnn, enn, ncr, oss, tl, renn, nearmiss, allknn, iht, cc_nn, sbc, obu, akcs, enu, e2sc_us, ubr\n",
    "from src.main.python.utils.general import get_data\n",
    "from sklearn.neighbors import KNeighborsClassifier\n",
    "from sklearn.metrics import accuracy_score"
   ]
  },
  {
   "cell_type": "code",
   "execution_count": 2,
   "metadata": {},
   "outputs": [],
   "source": [
    "def get_selector(method: str):\n",
    "\n",
    "    if method == 'akcs':           return akcs.AKCS()\n",
    "    if method == 'cnn':            return cnn.CNN()\n",
    "    if method == 'enn':            return enn.ENN()\n",
    "    if method == 'ncr':            return ncr.NCR()\n",
    "    if method == 'oss':            return oss.OSS()\n",
    "    if method == 'tl':             return tl.TL()\n",
    "    if method == 'e2sc_us':        return e2sc_us.E2SC_US(alphaMode=\"logistic_regression\")\n",
    "    if method == 'renn':           return renn.RENN()\n",
    "    if method == 'allknn':         return allknn.ALLKNN()\n",
    "    if method == 'nearmiss_1':     return nearmiss.NEARMISS(version=1)\n",
    "    if method == 'nearmiss_2':     return nearmiss.NEARMISS(version=2)\n",
    "    if method == 'nearmiss_3':     return nearmiss.NEARMISS(version=3)\n",
    "    if method == 'ubr':            return ubr.UBR()\n",
    "    if method == 'iht':            return iht.IHT()\n",
    "    if method == 'cc_nn':          return cc_nn.CC_NN()\n",
    "    if method == 'sbc':            return sbc.SBC()\n",
    "    if method == 'obu':            return obu.OBU()\n",
    "    if method == 'enub':           return enu.ENU(estrategia=\"ENUB\")\n",
    "    if method == 'enut':           return enu.ENU(estrategia=\"ENUT\")\n",
    "    if method == 'enuc':           return enu.ENU(estrategia=\"ENUC\")\n",
    "    if method == 'enur':           return enu.ENU(estrategia=\"ENUR\")\n",
    "\n",
    "    return None"
   ]
  },
  {
   "attachments": {},
   "cell_type": "markdown",
   "metadata": {},
   "source": [
    "# Opening data - sentistrength_myspace_2L dataset"
   ]
  },
  {
   "cell_type": "code",
   "execution_count": 3,
   "metadata": {},
   "outputs": [],
   "source": [
    "inputdir = \"resources/datasets/sentistrength_myspace_2L/tfidf/\"\n",
    "\n",
    "X_train, y_train, X_test, y_test, _ = get_data(inputdir, f=0)"
   ]
  },
  {
   "attachments": {},
   "cell_type": "markdown",
   "metadata": {},
   "source": [
    "# Example UBR - Selecting Instances"
   ]
  },
  {
   "cell_type": "code",
   "execution_count": 4,
   "metadata": {},
   "outputs": [],
   "source": [
    "selector = get_selector(method=\"ubr\")\n",
    "selector.fit(X_train, y_train)\n",
    "idx = selector.sample_indices_\n",
    "X_train_selected_UBR, y_train_selected_UBR =  X_train[idx], y_train[idx]"
   ]
  },
  {
   "cell_type": "markdown",
   "metadata": {},
   "source": [
    "# Example E2SC_US - Selecting Instances"
   ]
  },
  {
   "cell_type": "code",
   "execution_count": null,
   "metadata": {},
   "outputs": [],
   "source": [
    "selector = get_selector(method=\"e2sc_us\")\n",
    "selector.fit(X_train, y_train)\n",
    "idx = selector.sample_indices_\n",
    "X_train_selected_E2SC_US, y_train_selected_E2SC_US =  X_train[idx], y_train[idx]"
   ]
  },
  {
   "attachments": {},
   "cell_type": "markdown",
   "metadata": {},
   "source": [
    "# Example UBR and E2SC_US - Comparing Classifiers"
   ]
  },
  {
   "cell_type": "code",
   "execution_count": 6,
   "metadata": {},
   "outputs": [
    {
     "name": "stdout",
     "output_type": "stream",
     "text": [
      "NoSel: 0.8470588235294118\n",
      "UBR: 0.8588235294117647\n",
      "E2SC_US: 0.8117647058823529\n"
     ]
    }
   ],
   "source": [
    "clf = KNeighborsClassifier(n_neighbors=10)\n",
    "clf.fit(X_train, y_train)\n",
    "\n",
    "y_pred = clf.predict(X_test)\n",
    "acc = accuracy_score(y_test, y_pred)\n",
    "\n",
    "print(f\"NoSel: {acc}\")\n",
    "\n",
    "clf = KNeighborsClassifier(n_neighbors=10)\n",
    "clf.fit(X_train_selected_UBR, y_train_selected_UBR)\n",
    "\n",
    "y_pred = clf.predict(X_test)\n",
    "acc = accuracy_score(y_test, y_pred)\n",
    "\n",
    "print(f\"UBR: {acc}\")\n",
    "\n",
    "clf = KNeighborsClassifier(n_neighbors=10)\n",
    "clf.fit(X_train_selected_E2SC_US, y_train_selected_E2SC_US)\n",
    "\n",
    "y_pred = clf.predict(X_test)\n",
    "acc = accuracy_score(y_test, y_pred)\n",
    "\n",
    "print(f\"E2SC_US: {acc}\")"
   ]
  }
 ],
 "metadata": {
  "kernelspec": {
   "display_name": "Python 3",
   "language": "python",
   "name": "python3"
  },
  "language_info": {
   "codemirror_mode": {
    "name": "ipython",
    "version": 3
   },
   "file_extension": ".py",
   "mimetype": "text/x-python",
   "name": "python",
   "nbconvert_exporter": "python",
   "pygments_lexer": "ipython3",
   "version": "3.6.15"
  },
  "orig_nbformat": 4
 },
 "nbformat": 4,
 "nbformat_minor": 2
}
